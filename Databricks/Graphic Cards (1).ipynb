{
 "cells": [
  {
   "cell_type": "markdown",
   "metadata": {
    "application/vnd.databricks.v1+cell": {
     "cellMetadata": {},
     "inputWidgets": {},
     "nuid": "c92ce5aa-9f95-447a-af43-ba40820e09e2",
     "showTitle": false,
     "title": ""
    }
   },
   "source": [
    "#Load, Extract and Clean Graphic Card Data for New Egg.\n"
   ]
  },
  {
   "cell_type": "markdown",
   "metadata": {
    "application/vnd.databricks.v1+cell": {
     "cellMetadata": {},
     "inputWidgets": {},
     "nuid": "2a3aa7e9-e12b-4729-92be-1a1c2a250bce",
     "showTitle": false,
     "title": ""
    }
   },
   "source": [
    "Install Necressary Libarbies "
   ]
  },
  {
   "cell_type": "markdown",
   "metadata": {
    "application/vnd.databricks.v1+cell": {
     "cellMetadata": {},
     "inputWidgets": {},
     "nuid": "a895c8b2-049e-44e0-865e-075e0d164b1a",
     "showTitle": false,
     "title": ""
    }
   },
   "source": [
    "# Import necessary libraries:\n",
    "    # - BeautifulSoup: For parsing HTML content\n",
    "    # - requests: For sending HTTP requests\n",
    "    # - pandas: For creating and manipulating DataFrames"
   ]
  },
  {
   "cell_type": "code",
   "execution_count": 0,
   "metadata": {
    "application/vnd.databricks.v1+cell": {
     "cellMetadata": {
      "byteLimit": 2048000,
      "rowLimit": 10000
     },
     "inputWidgets": {},
     "nuid": "f503ee08-42dc-4f32-9236-9b8b67d9651a",
     "showTitle": false,
     "title": ""
    }
   },
   "outputs": [],
   "source": [
    "from bs4 import BeautifulSoup\n",
    "import requests\n",
    "import pandas as pd\n",
    "from pyspark.sql.types import StructType, StructField, StringType,IntegerType, DecimalType"
   ]
  },
  {
   "cell_type": "markdown",
   "metadata": {
    "application/vnd.databricks.v1+cell": {
     "cellMetadata": {},
     "inputWidgets": {},
     "nuid": "51f567e5-6342-4cb2-b773-8ef218290fad",
     "showTitle": false,
     "title": ""
    }
   },
   "source": [
    "## Integrate ADLS using Azure Data Lake Storage Gen2 storage account access key directly."
   ]
  },
  {
   "cell_type": "code",
   "execution_count": 0,
   "metadata": {
    "application/vnd.databricks.v1+cell": {
     "cellMetadata": {
      "byteLimit": 2048000,
      "rowLimit": 10000
     },
     "inputWidgets": {},
     "nuid": "5c38f7a1-21a3-4981-9ac1-689aec6d7281",
     "showTitle": false,
     "title": ""
    }
   },
   "outputs": [],
   "source": [
    "def get_html(url):\n",
    "    \"\"\"Send a GET request to a URL and return the page content as a BeautifulSoup object\n",
    "    \n",
    "    Args:\n",
    "        url (str): The URL to send the GET request \n",
    "        \n",
    "    Returns:\n",
    "        BeautifulSoup: The page content as a BeautifulSoup object\n",
    "    \"\"\"\n",
    "    reponse = requests.get(url)\n",
    "    return reponse.content"
   ]
  },
  {
   "cell_type": "code",
   "execution_count": 0,
   "metadata": {
    "application/vnd.databricks.v1+cell": {
     "cellMetadata": {
      "byteLimit": 2048000,
      "rowLimit": 10000
     },
     "inputWidgets": {},
     "nuid": "92b9c853-67ab-4538-ba37-c400dd3c71d8",
     "showTitle": false,
     "title": ""
    }
   },
   "outputs": [],
   "source": [
    "# Define the schema for the DataFrame\n",
    "schema = StructType([\n",
    "    StructField(\"model_no\", StringType(), nullable=True),\n",
    "    StructField(\"Gpu_name\", StringType(), nullable=True),\n",
    "    StructField(\"No_rating\", StringType(), nullable=True),\n",
    "    StructField(\"ratings\", StringType(), nullable=True),\n",
    "    StructField(\"price\", StringType(), nullable=True),\n",
    "    StructField(\"stickthrough_price\", StringType(), nullable=True),\n",
    "    StructField(\"Product_link\", StringType(), nullable=True)\n",
    "])\n",
    "\n",
    "# Create an empty DataFrame with the defined schema\n",
    "data = spark.createDataFrame([], schema)\n",
    "\n",
    "# create a for loop to run through page 1 to 9\n",
    "for page in range(1, 9):\n",
    "    page_size = 36  # Number of items per page\n",
    "    # if the page has no page number it's the first page.\n",
    "    if page == 1:\n",
    "        Html_ = get_html(f'https://www.newegg.com/global/uk-en/GPUs-Video-Graphics-Cards/SubCategory/ID-48')\n",
    "    else:\n",
    "        Html_ = get_html(f'https://www.newegg.com/global/uk-en/GPUs-Video-Graphics-Cards/SubCategory/ID-48/Page-{page}')\n",
    "    Soup = BeautifulSoup(Html_, 'html.parser')\n",
    "\n",
    "    # Find all div elements with class 'item-cell'\n",
    "    items = Soup.find_all('div', class_='item-cell')\n",
    "\n",
    "    # Iterating over each product container (pc) in the items list and find:\n",
    "    # if they don't exist just return 'NA'\n",
    "    for pc in items:\n",
    "        # 1. Gpu Name\n",
    "        Gpu_name = pc.find('a', class_='item-title').text if pc.find('a', class_='item-title') else None\n",
    "        # 2. Model No\n",
    "        model_no = pc.find('ul', class_='item-features').text if pc.find('ul', class_='item-features') else None\n",
    "        # 3. Number of ratings\n",
    "        No_rating = pc.find('a', class_='item-rating').text if pc.find('a', class_='item-rating') else None\n",
    "        # 4. The product Link\n",
    "        Product_link = pc.find('a', class_='item-title')['href']\n",
    "        # 5. The Price\n",
    "        price = pc.find('li', class_='price-current').text if pc.find('li', class_='price-current') else None\n",
    "\n",
    "        # Strick Through Price\n",
    "        stickthrough_price = pc.find('span', class_='price-was-data').text if pc.find('span', class_='price-was-data') else None\n",
    "\n",
    "        # Extract Product information\n",
    "        # get the html link for the product\n",
    "        get_html(Product_link)\n",
    "        productsoup = BeautifulSoup(get_html(Product_link), 'html.parser')\n",
    "\n",
    "        # List of possible class names for rating elements\n",
    "        rating_classes = ['rating rating-5', 'rating rating-4-5', 'rating rating-4', 'rating rating-3-5']\n",
    "\n",
    "        # Initialize ratings to 'Null' by default\n",
    "        ratings = None\n",
    "\n",
    "        # Iterate through the list of class names\n",
    "        for rating_class in rating_classes:\n",
    "            # Attempt to find the rating element in the first place\n",
    "            rating_element = pc.find('i', class_=rating_class)\n",
    "\n",
    "            if rating_element:\n",
    "                # Safely extract the rating value from the 'aria-label' attribute\n",
    "                aria_label = rating_element.get('aria-label', '')\n",
    "                ratings = aria_label.split(' ')[1] if len(aria_label.split(' ')) > 1 else None\n",
    "                break  # Exit the loop once a rating is found\n",
    "            else:\n",
    "                # If not found, check the second place for ratings\n",
    "                ratings_element = productsoup.find('i', class_=rating_class)\n",
    "                if ratings_element:\n",
    "                    # Safely extract the rating from the 'title' attribute\n",
    "                    title = ratings_element.get('title', '')\n",
    "                    ratings = title.split(' ')[1] if len(title.split(' ')) > 1 else None\n",
    "                    break  # Exit the loop once a rating is found\n",
    "\n",
    "        # Create a new row with the scraped data\n",
    "        new_row = spark.createDataFrame([(model_no, Gpu_name, No_rating, ratings, price, stickthrough_price, Product_link)], schema=schema)\n",
    "\n",
    "        # Append the new row to the existing DataFrame\n",
    "        data = data.union(new_row)\n",
    "\n",
    "# Write the DataFrame to a Delta Lake table\n",
    "data.write.format(\"delta\").mode(\"overwrite\").saveAsTable(\"gpu_cards\")"
   ]
  }
 ],
 "metadata": {
  "application/vnd.databricks.v1+notebook": {
   "dashboards": [],
   "environmentMetadata": null,
   "language": "python",
   "notebookMetadata": {
    "mostRecentlyExecutedCommandWithImplicitDF": {
     "commandId": 2279130884742588,
     "dataframes": [
      "_sqldf"
     ]
    },
    "pythonIndentUnit": 4
   },
   "notebookName": "Graphic Cards (1)",
   "widgets": {}
  }
 },
 "nbformat": 4,
 "nbformat_minor": 0
}
